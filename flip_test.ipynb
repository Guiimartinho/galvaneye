{
 "cells": [
  {
   "cell_type": "code",
   "execution_count": 86,
   "metadata": {
    "collapsed": false
   },
   "outputs": [],
   "source": [
    "import numpy as np\n",
    "from collections import deque"
   ]
  },
  {
   "cell_type": "code",
   "execution_count": 11,
   "metadata": {
    "collapsed": false
   },
   "outputs": [
    {
     "data": {
      "text/plain": [
       "array([[ 1.,  0.,  0.],\n",
       "       [ 0.,  1.,  0.],\n",
       "       [ 0.,  0.,  1.]])"
      ]
     },
     "execution_count": 11,
     "metadata": {},
     "output_type": "execute_result"
    }
   ],
   "source": [
    "# self.k is intialized at the begninning of 'data_collection.py'\n",
    "# This creates the directional values encoded in 0's and 1's\n",
    "\n",
    "# array([[ 1.,  0.,  0.],   <-- FORWARD-LEFT\n",
    "#        [ 0.,  1.,  0.],   <-- FORWARD-RIGHT\n",
    "#        [ 0.,  0.,  1.]])  <-- FORWARD\n",
    "\n",
    "k = np.zeros((3, 3), 'float')\n",
    "for i in range(3):\n",
    "    k[i, i] = 1\n",
    "k"
   ]
  },
  {
   "cell_type": "code",
   "execution_count": 13,
   "metadata": {
    "collapsed": false
   },
   "outputs": [
    {
     "data": {
      "text/plain": [
       "array([[101,   0,   0,   0,   0],\n",
       "       [  0, 102,   0,   0,   0],\n",
       "       [  0,   0, 103,   0,   0],\n",
       "       [  0,   0,   0, 104,   0],\n",
       "       [  0,   0,   0,   0, 105]])"
      ]
     },
     "execution_count": 13,
     "metadata": {},
     "output_type": "execute_result"
    }
   ],
   "source": [
    "img = np.array([[101,0,0,0,0],[0,102,0,0,0],[0,0,103,0,0],[0,0,0,104,0],[0,0,0,0,105]])\n",
    "img"
   ]
  },
  {
   "cell_type": "code",
   "execution_count": 57,
   "metadata": {
    "collapsed": false
   },
   "outputs": [
    {
     "data": {
      "text/plain": [
       "array([[ 101.,    0.,    0.,    0.,    0.,    0.,  102.,    0.,    0.,\n",
       "           0.,    0.,    0.,  103.,    0.,    0.,    0.,    0.,    0.,\n",
       "         104.,    0.,    0.,    0.,    0.,    0.,  105.]], dtype=float32)"
      ]
     },
     "execution_count": 57,
     "metadata": {},
     "output_type": "execute_result"
    }
   ],
   "source": [
    "# Flatten (for image feature data)\n",
    "width = 5\n",
    "height = 5\n",
    "\n",
    "img_flattened = img.reshape(1, width*height).astype(np.float32)\n",
    "img_flattened"
   ]
  },
  {
   "cell_type": "code",
   "execution_count": 100,
   "metadata": {
    "collapsed": false
   },
   "outputs": [
    {
     "name": "stdout",
     "output_type": "stream",
     "text": [
      "[[   0.    0.    0.    0.  101.]\n",
      " [   0.    0.    0.  102.    0.]\n",
      " [   0.    0.  103.    0.    0.]\n",
      " [   0.  104.    0.    0.    0.]\n",
      " [ 105.    0.    0.    0.    0.]]\n",
      "<type 'numpy.ndarray'>\n"
     ]
    },
    {
     "data": {
      "text/plain": [
       "array([[   0.,    0.,    0.,    0.,  101.],\n",
       "       [   0.,    0.,    0.,  102.,    0.],\n",
       "       [   0.,    0.,  103.,    0.,    0.],\n",
       "       [   0.,  104.,    0.,    0.,    0.],\n",
       "       [ 105.,    0.,    0.,    0.,    0.]])"
      ]
     },
     "execution_count": 100,
     "metadata": {},
     "output_type": "execute_result"
    }
   ],
   "source": [
    "# Unflatten (for image feature data)\n",
    "def unflatten_flip(array):\n",
    "    \n",
    "    width = 5\n",
    "    height = 5\n",
    "    \n",
    "    final = []\n",
    "    \n",
    "    # Convert the nparray to a list; pull the list from the outer set of square brackets; deque the list.\n",
    "    array_list = array.tolist()\n",
    "    for a in array_list:\n",
    "        initial = deque(a)\n",
    "    \n",
    "    # For each row in the specified height dimension...\n",
    "    for row in xrange(height):\n",
    "        temp_row = []\n",
    "\n",
    "        # ...for each column in the specified width dimension...\n",
    "        for col in xrange(width):\n",
    "            \n",
    "            # ...pop off the last item in the initial array and append to the new temp_row.\n",
    "            d = initial.pop()\n",
    "            temp_row.append(d)\n",
    "            \n",
    "        # Append temp_row to final, and reset temp_row to empty.\n",
    "        final.append(temp_row)\n",
    "        temp_row = []\n",
    "\n",
    "    # Now we have the final list, but it's 'upside down' because we took care of left to right, but not bottom to top.\n",
    "    final = deque(final)\n",
    "    \n",
    "    # This takes care of bottom to top.\n",
    "    final.reverse()\n",
    "   \n",
    "    final = np.array(final)       \n",
    "    print final\n",
    "    print type(final)\n",
    "    return final\n",
    "\n",
    "unflatten_flip(img_flattened)"
   ]
  },
  {
   "cell_type": "markdown",
   "metadata": {},
   "source": [
    "target = np.array([[1,0,0],[0,1,0],[0,0,1],[0,1,0],[1,0,0]])"
   ]
  },
  {
   "cell_type": "code",
   "execution_count": 10,
   "metadata": {
    "collapsed": false
   },
   "outputs": [
    {
     "data": {
      "text/plain": [
       "array([[1, 0, 0],\n",
       "       [0, 1, 0],\n",
       "       [0, 0, 1],\n",
       "       [0, 1, 0],\n",
       "       [1, 0, 0]])"
      ]
     },
     "execution_count": 10,
     "metadata": {},
     "output_type": "execute_result"
    }
   ],
   "source": [
    "target"
   ]
  },
  {
   "cell_type": "code",
   "execution_count": 99,
   "metadata": {
    "collapsed": false
   },
   "outputs": [
    {
     "name": "stdout",
     "output_type": "stream",
     "text": [
      "[[0 1 0]\n",
      " [1 0 0]\n",
      " [0 0 1]\n",
      " [1 0 0]\n",
      " [0 1 0]]\n",
      "<type 'numpy.ndarray'>\n"
     ]
    },
    {
     "data": {
      "text/plain": [
       "array([[0, 1, 0],\n",
       "       [1, 0, 0],\n",
       "       [0, 0, 1],\n",
       "       [1, 0, 0],\n",
       "       [0, 1, 0]])"
      ]
     },
     "execution_count": 99,
     "metadata": {},
     "output_type": "execute_result"
    }
   ],
   "source": [
    "# Flip the LEFT & RIGHT directional inputs, but leave FORWARD alone. (for directional target data)\n",
    "# array([[ 1.,  0.,  0.],   <-- FORWARD-LEFT\n",
    "#        [ 0.,  1.,  0.],   <-- FORWARD-RIGHT\n",
    "#        [ 0.,  0.,  1.]])  <-- FORWARD\n",
    "\n",
    "def flip_dir(array):\n",
    "\n",
    "    array_list = array.tolist()\n",
    "\n",
    "    final = []\n",
    "    \n",
    "    for row in array_list:\n",
    "        \n",
    "        # Forward-Left becomes Forward-Right\n",
    "        if row[0] == 1:\n",
    "            row = [0,1,0]\n",
    "            final.append(row)\n",
    "            \n",
    "        # Forward-Right becomes Forward-Left\n",
    "        elif row[1] == 1:\n",
    "            row = [1,0,0]\n",
    "            final.append(row)\n",
    "            \n",
    "        # Forward remains as Forward\n",
    "        elif row[2] == 1:\n",
    "            final.append(row)\n",
    "            continue\n",
    "    \n",
    "    final = np.array(final)       \n",
    "    print final\n",
    "    print type(final)\n",
    "    return final\n",
    "    \n",
    "flip_dir(target)\n"
   ]
  },
  {
   "cell_type": "code",
   "execution_count": null,
   "metadata": {
    "collapsed": true
   },
   "outputs": [],
   "source": []
  }
 ],
 "metadata": {
  "kernelspec": {
   "display_name": "Python 2",
   "language": "python",
   "name": "python2"
  },
  "language_info": {
   "codemirror_mode": {
    "name": "ipython",
    "version": 2
   },
   "file_extension": ".py",
   "mimetype": "text/x-python",
   "name": "python",
   "nbconvert_exporter": "python",
   "pygments_lexer": "ipython2",
   "version": "2.7.9"
  }
 },
 "nbformat": 4,
 "nbformat_minor": 0
}
