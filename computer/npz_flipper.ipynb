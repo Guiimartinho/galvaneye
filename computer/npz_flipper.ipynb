{
 "cells": [
  {
   "cell_type": "code",
   "execution_count": 1,
   "metadata": {
    "collapsed": false
   },
   "outputs": [
    {
     "name": "stderr",
     "output_type": "stream",
     "text": [
      "/Users/PaulYim/anaconda/lib/python2.7/site-packages/matplotlib/font_manager.py:273: UserWarning: Matplotlib is building the font cache using fc-list. This may take a moment.\n",
      "  warnings.warn('Matplotlib is building the font cache using fc-list. This may take a moment.')\n",
      "Using TensorFlow backend.\n"
     ]
    }
   ],
   "source": [
    "'''\n",
    "Wrangling npz files:\n",
    "http://stackoverflow.com/questions/32682928/loading-arrays-from-npz-files-in-pythhon'''\n",
    "\n",
    "import cv2\n",
    "import numpy as np\n",
    "# np.set_printoptions(threshold=np.nan)\n",
    "import pandas as pd\n",
    "import matplotlib.pyplot as plt\n",
    "import glob\n",
    "from collections import deque\n",
    "\n",
    "from keras.models import Sequential\n",
    "from keras.layers import Dense, Dropout, Activation\n",
    "from keras.optimizers import SGD\n",
    "from keras.utils.np_utils import to_categorical\n",
    "from sklearn.cross_validation import train_test_split\n",
    "from sklearn.feature_selection import SelectKBest, f_classif, f_regression\n",
    "from sklearn import preprocessing"
   ]
  },
  {
   "cell_type": "code",
   "execution_count": 2,
   "metadata": {
    "collapsed": true
   },
   "outputs": [],
   "source": [
    "# Flip the LEFT & RIGHT directional inputs, but leave FORWARD alone. (for directional target/label data)\n",
    "# array([[ 1.,  0.,  0.],   <-- FORWARD-LEFT\n",
    "#        [ 0.,  1.,  0.],   <-- FORWARD-RIGHT\n",
    "#        [ 0.,  0.,  1.]])  <-- FORWARD\n",
    "\n",
    "def flip_dir(array):\n",
    "\n",
    "    array_list = array.tolist()\n",
    "\n",
    "    final = []\n",
    "    \n",
    "    for row in array_list:\n",
    "        \n",
    "        # Forward-Left becomes Forward-Right\n",
    "        if row[0] == 1:\n",
    "            row = [0,1,0]\n",
    "            final.append(row)\n",
    "            \n",
    "        # Forward-Right becomes Forward-Left\n",
    "        elif row[1] == 1:\n",
    "            row = [1,0,0]\n",
    "            final.append(row)\n",
    "            \n",
    "        # Forward remains as Forward\n",
    "        elif row[2] == 1:\n",
    "            final.append(row)\n",
    "            continue\n",
    "    \n",
    "    final = np.array(final)       \n",
    "#     print final\n",
    "#     print type(final)\n",
    "    return final"
   ]
  },
  {
   "cell_type": "code",
   "execution_count": 3,
   "metadata": {
    "collapsed": false
   },
   "outputs": [],
   "source": [
    "# Unflatten (for image feature data)\n",
    "def unflatten_flip(array,width,height):\n",
    "    \n",
    "    final = []\n",
    "    \n",
    "    # Convert the nparray to a list; pull the list from the outer set of square brackets; deque the list.\n",
    "#     array_list = array.tolist()\n",
    "\n",
    "#     print 'This is ARRAY: ',array\n",
    "\n",
    "#     for a in array:\n",
    "#         a = list(a)\n",
    "#         print 'THIS IS a: ', a\n",
    "#         initial = deque(a)\n",
    "    \n",
    "    \n",
    "    initial = deque(array)\n",
    "    \n",
    "    # For each row in the specified height dimension...\n",
    "    for row in xrange(height):\n",
    "        temp_row = []\n",
    "\n",
    "        # ...for each column in the specified width dimension...\n",
    "        for col in xrange(width):\n",
    "            \n",
    "            # ...pop off the last item in the initial array and append to the new temp_row.\n",
    "            d = initial.pop()\n",
    "            temp_row.append(d)\n",
    "            \n",
    "        # Append temp_row to final, and reset temp_row to empty.\n",
    "        final.append(temp_row)\n",
    "        temp_row = []\n",
    "\n",
    "    # Now we have the final list, but it's 'upside down' because we took care of left to right, but not bottom to top.\n",
    "    final = deque(final)\n",
    "    \n",
    "    # This takes care of bottom to top.\n",
    "    final.reverse()\n",
    "   \n",
    "    final = np.array(final)       \n",
    "#     print final\n",
    "#     print type(final)\n",
    "    return final"
   ]
  },
  {
   "cell_type": "code",
   "execution_count": 8,
   "metadata": {
    "collapsed": false,
    "scrolled": false
   },
   "outputs": [
    {
     "name": "stdout",
     "output_type": "stream",
     "text": [
      "Original Labels dims:  (184, 3)\n",
      "Original Features dims:  (184, 38400)\n",
      "Flipped Labels dims:  (184, 3)\n",
      "Flipped Features dims:  (184, 38400)\n",
      "Flipping is complete.\n"
     ]
    }
   ],
   "source": [
    "# load training data\n",
    "image_array = np.zeros((1, 38400))\n",
    "label_array = np.zeros((1, 3), 'float')\n",
    "training_data = glob.glob('training_data/testRT4.npz')        # Finds filenames matching specified path or pattern.\n",
    "\n",
    "for single_npz in training_data:                        \n",
    "    with np.load(single_npz) as data:\n",
    "#         print data.keys()\n",
    "        \n",
    "        # LABELS (this works)        \n",
    "        labels = data.f.train_labels\n",
    "        print 'Original Labels dims: ', labels.shape\n",
    "        \n",
    "        labels_flipped = flip_dir(labels)\n",
    "        \n",
    "        # FEATURES (this works)\n",
    "        image_array = np.zeros((1, 38400))\n",
    "        \n",
    "        original_features = data.f.train\n",
    "        print 'Original Features dims: ', original_features.shape\n",
    "        \n",
    "        for feature in original_features:\n",
    "            \n",
    "#             print 'This is the ORIGINAL feature: ', type(feature), feature.shape, feature\n",
    "            feature = list(feature)\n",
    "            \n",
    "            feature_array_flipped = unflatten_flip(feature,width=320,height=120)\n",
    "            \n",
    "            temp_array = feature_array_flipped.reshape(1, 38400).astype(np.float32)\n",
    "#             print 'This is the FLIPPED feature: ', type(temp_array), temp_array.shape, temp_array \n",
    "            \n",
    "            image_array = np.vstack((image_array, temp_array))\n",
    "            \n",
    "        train_labels = labels_flipped        \n",
    "        train = image_array[1:, :]\n",
    "\n",
    "        print 'Flipped Labels dims: ', train_labels.shape\n",
    "        print 'Flipped Features dims: ', train.shape        \n",
    "        \n",
    "        np.savez('training_data_temp/testFLIPPED.npz', train=train, train_labels=train_labels)      \n",
    "        \n",
    "        print 'Flipping is complete.'"
   ]
  },
  {
   "cell_type": "code",
   "execution_count": null,
   "metadata": {
    "collapsed": true
   },
   "outputs": [],
   "source": []
  }
 ],
 "metadata": {
  "kernelspec": {
   "display_name": "Python 2",
   "language": "python",
   "name": "python2"
  },
  "language_info": {
   "codemirror_mode": {
    "name": "ipython",
    "version": 2
   },
   "file_extension": ".py",
   "mimetype": "text/x-python",
   "name": "python",
   "nbconvert_exporter": "python",
   "pygments_lexer": "ipython2",
   "version": "2.7.9"
  }
 },
 "nbformat": 4,
 "nbformat_minor": 0
}
