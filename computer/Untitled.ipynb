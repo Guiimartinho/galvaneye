{
 "cells": [
  {
   "cell_type": "code",
   "execution_count": 1,
   "metadata": {
    "collapsed": false
   },
   "outputs": [
    {
     "name": "stderr",
     "output_type": "stream",
     "text": [
      "/Users/PaulYim/anaconda/lib/python2.7/site-packages/matplotlib/font_manager.py:273: UserWarning: Matplotlib is building the font cache using fc-list. This may take a moment.\n",
      "  warnings.warn('Matplotlib is building the font cache using fc-list. This may take a moment.')\n",
      "Using TensorFlow backend.\n"
     ]
    }
   ],
   "source": [
    "import cv2\n",
    "import numpy as np\n",
    "import pandas as pd\n",
    "import matplotlib.pyplot as plt\n",
    "import glob\n",
    "from keras.models import Sequential\n",
    "from keras.layers import Dense, Dropout, Activation\n",
    "from keras.optimizers import SGD\n",
    "from keras.utils.np_utils import to_categorical\n",
    "from sklearn.cross_validation import train_test_split\n",
    "from sklearn.feature_selection import SelectKBest, f_classif, f_regression\n",
    "from sklearn import preprocessing"
   ]
  },
  {
   "cell_type": "code",
   "execution_count": 3,
   "metadata": {
    "collapsed": false
   },
   "outputs": [
    {
     "name": "stdout",
     "output_type": "stream",
     "text": [
      "Loading training data...\n",
      "['train_labels', 'train']\n",
      "(137, 38400)\n",
      "(137, 4)\n",
      "['train_labels', 'train']\n",
      "(133, 38400)\n",
      "(133, 4)\n",
      "['train_labels', 'train']\n",
      "(148, 38400)\n",
      "(148, 4)\n",
      "['train_labels', 'train']\n",
      "(171, 38400)\n",
      "(171, 4)\n",
      "['train_labels', 'train']\n",
      "(151, 38400)\n",
      "(151, 4)\n",
      "['train_labels', 'train']\n",
      "(150, 38400)\n",
      "(150, 4)\n",
      "(890, 38400)\n",
      "(890, 4)\n"
     ]
    }
   ],
   "source": [
    "print 'Loading training data...'\n",
    "e0 = cv2.getTickCount()         # Returns the number of ticks after a certain event.\n",
    "\n",
    "# load training data\n",
    "image_array = np.zeros((1, 38400))\n",
    "label_array = np.zeros((1, 4), 'float')\n",
    "training_data = glob.glob('training_data/*.npz')        # Finds filenames matching specified path or pattern.\n",
    "\n",
    "for single_npz in training_data:                        # single_npz == one array representing one array of saved image data and user input label for that image.\n",
    "    with np.load(single_npz) as data:\n",
    "        print data.files\n",
    "        train_temp = data['train']                      # returns the training data image array assigned to 'train' argument created during np.savez step in 'collect_training_data.py'\n",
    "        train_labels_temp = data['train_labels']        # returns the training user input data array assigned to 'train_labels' argument created during np.savez step in 'collect_training_data.py'\n",
    "        print train_temp.shape\n",
    "        print train_labels_temp.shape\n",
    "    image_array = np.vstack((image_array, train_temp))\n",
    "    label_array = np.vstack((label_array, train_labels_temp))  \n",
    "    \n",
    "train = image_array[1:, :]\n",
    "train_labels = label_array[1:, :]\n",
    "print train.shape\n",
    "print train_labels.shape"
   ]
  },
  {
   "cell_type": "code",
   "execution_count": 5,
   "metadata": {
    "collapsed": false
   },
   "outputs": [
    {
     "name": "stdout",
     "output_type": "stream",
     "text": [
      "[ 88.  93.  93. ...,  97.  95.  76.]\n",
      "[ 0.  0.  1.  0.]\n"
     ]
    }
   ],
   "source": [
    "print train[0]\n",
    "print train_labels[0]"
   ]
  },
  {
   "cell_type": "code",
   "execution_count": null,
   "metadata": {
    "collapsed": true
   },
   "outputs": [],
   "source": []
  }
 ],
 "metadata": {
  "kernelspec": {
   "display_name": "Python 2",
   "language": "python",
   "name": "python2"
  },
  "language_info": {
   "codemirror_mode": {
    "name": "ipython",
    "version": 2
   },
   "file_extension": ".py",
   "mimetype": "text/x-python",
   "name": "python",
   "nbconvert_exporter": "python",
   "pygments_lexer": "ipython2",
   "version": "2.7.9"
  }
 },
 "nbformat": 4,
 "nbformat_minor": 0
}
