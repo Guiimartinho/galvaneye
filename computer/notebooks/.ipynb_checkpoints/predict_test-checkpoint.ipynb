{
 "cells": [
  {
   "cell_type": "code",
   "execution_count": 86,
   "metadata": {
    "collapsed": false
   },
   "outputs": [],
   "source": [
    "import cv2\n",
    "import glob\n",
    "import keras.models\n",
    "import numpy as np\n",
    "from tabulate import tabulate"
   ]
  },
  {
   "cell_type": "code",
   "execution_count": 2,
   "metadata": {
    "collapsed": false
   },
   "outputs": [
    {
     "data": {
      "text/plain": [
       "u'/Users/PaulYim/Desktop/car/computer/notebooks'"
      ]
     },
     "execution_count": 2,
     "metadata": {},
     "output_type": "execute_result"
    }
   ],
   "source": [
    "pwd"
   ]
  },
  {
   "cell_type": "code",
   "execution_count": 6,
   "metadata": {
    "collapsed": false
   },
   "outputs": [
    {
     "data": {
      "text/plain": [
       "<keras.models.Sequential at 0x11d25c9d0>"
      ]
     },
     "execution_count": 6,
     "metadata": {},
     "output_type": "execute_result"
    }
   ],
   "source": [
    "model = keras.models.load_model('../nn_h5/nn.h5')\n",
    "model"
   ]
  },
  {
   "cell_type": "code",
   "execution_count": 87,
   "metadata": {
    "collapsed": true
   },
   "outputs": [],
   "source": [
    "def auto_canny(blurred):\n",
    "    # Compute the median of the single channel pixel intensities\n",
    "    sigma = 0.33\n",
    "    v = np.median(blurred)\n",
    "\n",
    "    # Apply automatic Canny edge detection using the computed median\n",
    "    lower = int(max(0,   (1.0 - sigma) * v))\n",
    "    upper = int(min(255, (1.0 + sigma) * v))\n",
    "    edged = cv2.Canny(blurred, lower, upper)\n",
    "\n",
    "    # Return the edged image\n",
    "    return edged"
   ]
  },
  {
   "cell_type": "code",
   "execution_count": 88,
   "metadata": {
    "collapsed": false
   },
   "outputs": [],
   "source": [
    "def preprocess_for_predict(filepath_image):\n",
    "    image = cv2.imread(filepath_image, cv2.IMREAD_GRAYSCALE)\n",
    "    roi = image[120:240, :]\n",
    "    blurred = cv2.GaussianBlur(roi, (3, 3), 0)\n",
    "    auto = auto_canny(blurred)\n",
    "    image_array = auto.reshape(1, 38400).astype(np.float32)\n",
    "    image_array = image_array/255.\n",
    "    return image_array"
   ]
  },
  {
   "cell_type": "code",
   "execution_count": 89,
   "metadata": {
    "collapsed": false
   },
   "outputs": [
    {
     "name": "stdout",
     "output_type": "stream",
     "text": [
      "[[  1.44709367e-04   9.10869002e-01   8.89862105e-02]]\n"
     ]
    }
   ],
   "source": [
    "'''One-image-at-a-time prediction test'''\n",
    "\n",
    "# '''Forward'''\n",
    "# filepath_image = '../images/imgs_20161024_201843/frame00000.jpg'\n",
    "\n",
    "'''Forward-Right'''\n",
    "filepath_image = '../images/imgs_20161024_201843/frame00020.jpg'\n",
    "\n",
    "# '''Forward-Left'''\n",
    "# filepath_image = '../images/imgs_20161024_203956/frame00055.jpg'\n",
    "\n",
    "image_array = preprocess_for_predict(filepath_image)\n",
    "prediction = model.predict(image_array)\n",
    "print prediction"
   ]
  },
  {
   "cell_type": "code",
   "execution_count": 91,
   "metadata": {
    "collapsed": false,
    "scrolled": false
   },
   "outputs": [
    {
     "name": "stdout",
     "output_type": "stream",
     "text": [
      "Number of correct predictions: 149\n",
      "Number of incorrect predictions: 38\n",
      "Accuracy: 0.79679144385\n",
      "\n",
      "  Frame  Prediction     Actual         Wrongness\n",
      "-------  -------------  -------------  -----------\n",
      "      0  [ 0.  0.  1.]  [ 0.  0.  1.]\n",
      "      1  [ 0.  0.  1.]  [ 0.  0.  1.]\n",
      "      2  [ 0.  0.  1.]  [ 0.  0.  1.]\n",
      "      3  [ 0.  0.  1.]  [ 0.  0.  1.]\n",
      "      4  [ 0.  0.  1.]  [ 0.  0.  1.]\n",
      "      5  [ 0.  0.  1.]  [ 0.  0.  1.]\n",
      "      6  [ 0.  0.  1.]  [ 0.  0.  1.]\n",
      "      7  [ 0.  0.  1.]  [ 0.  0.  1.]\n",
      "      8  [ 0.  0.  1.]  [ 0.  0.  1.]\n",
      "      9  [ 0.  0.  1.]  [ 0.  0.  1.]\n",
      "     10  [ 0.  0.  1.]  [ 1.  0.  0.]  Wrong\n",
      "     11  [ 0.  1.  0.]  [ 0.  1.  0.]\n",
      "     12  [ 0.  0.  1.]  [ 0.  0.  1.]\n",
      "     13  [ 0.  1.  0.]  [ 0.  1.  0.]\n",
      "     14  [ 0.  1.  0.]  [ 0.  1.  0.]\n",
      "     15  [ 0.  1.  0.]  [ 0.  1.  0.]\n",
      "     16  [ 0.  1.  0.]  [ 0.  1.  0.]\n",
      "     17  [ 0.  1.  0.]  [ 0.  0.  1.]  Wrong\n",
      "     18  [ 0.  1.  0.]  [ 0.  1.  0.]\n",
      "     19  [ 0.  1.  0.]  [ 0.  1.  0.]\n",
      "     20  [ 0.  1.  0.]  [ 0.  1.  0.]\n",
      "     21  [ 0.  1.  0.]  [ 0.  1.  0.]\n",
      "     22  [ 0.  0.  1.]  [ 0.  0.  1.]\n",
      "     23  [ 0.  1.  0.]  [ 0.  1.  0.]\n",
      "     24  [ 0.  1.  0.]  [ 0.  1.  0.]\n",
      "     25  [ 0.  1.  0.]  [ 0.  1.  0.]\n",
      "     26  [ 0.  0.  1.]  [ 0.  1.  0.]  Wrong\n",
      "     27  [ 0.  0.  1.]  [ 0.  0.  1.]\n",
      "     28  [ 0.  0.  1.]  [ 0.  0.  1.]\n",
      "     29  [ 0.  0.  1.]  [ 0.  0.  1.]\n",
      "     30  [ 0.  1.  0.]  [ 0.  0.  1.]  Wrong\n",
      "     31  [ 0.  1.  0.]  [ 0.  1.  0.]\n",
      "     32  [ 0.  1.  0.]  [ 0.  1.  0.]\n",
      "     33  [ 0.  1.  0.]  [ 0.  1.  0.]\n",
      "     34  [ 0.  1.  0.]  [ 0.  1.  0.]\n",
      "     35  [ 0.  1.  0.]  [ 0.  1.  0.]\n",
      "     36  [ 0.  1.  0.]  [ 0.  1.  0.]\n",
      "     37  [ 0.  1.  0.]  [ 0.  1.  0.]\n",
      "     38  [ 0.  0.  1.]  [ 0.  1.  0.]  Wrong\n",
      "     39  [ 0.  0.  1.]  [ 0.  0.  1.]\n",
      "     40  [ 0.  1.  0.]  [ 0.  1.  0.]\n",
      "     41  [ 0.  1.  0.]  [ 0.  0.  1.]  Wrong\n",
      "     42  [ 0.  1.  0.]  [ 0.  1.  0.]\n",
      "     43  [ 0.  1.  0.]  [ 0.  1.  0.]\n",
      "     44  [ 0.  1.  0.]  [ 0.  1.  0.]\n",
      "     45  [ 0.  1.  0.]  [ 0.  1.  0.]\n",
      "     46  [ 0.  1.  0.]  [ 0.  1.  0.]\n",
      "     47  [ 0.  1.  0.]  [ 0.  1.  0.]\n",
      "     48  [ 0.  0.  1.]  [ 0.  0.  1.]\n",
      "     49  [ 0.  0.  1.]  [ 0.  0.  1.]\n",
      "     50  [ 0.  0.  1.]  [ 0.  0.  1.]\n",
      "     51  [ 0.  0.  1.]  [ 0.  0.  1.]\n",
      "     52  [ 0.  0.  1.]  [ 0.  0.  1.]\n",
      "     53  [ 0.  0.  1.]  [ 0.  0.  1.]\n",
      "     54  [ 0.  0.  1.]  [ 0.  0.  1.]\n",
      "     55  [ 0.  0.  1.]  [ 0.  0.  1.]\n",
      "     56  [ 0.  0.  1.]  [ 0.  0.  1.]\n",
      "     57  [ 0.  0.  1.]  [ 0.  0.  1.]\n",
      "     58  [ 0.  0.  1.]  [ 0.  0.  1.]\n",
      "     59  [ 0.  0.  1.]  [ 0.  0.  1.]\n",
      "     60  [ 0.  0.  1.]  [ 0.  0.  1.]\n",
      "     61  [ 0.  0.  1.]  [ 0.  0.  1.]\n",
      "     62  [ 0.  0.  1.]  [ 0.  0.  1.]\n",
      "     63  [ 0.  0.  1.]  [ 0.  0.  1.]\n",
      "     64  [ 0.  0.  1.]  [ 0.  0.  1.]\n",
      "     65  [ 0.  0.  1.]  [ 0.  1.  0.]  Wrong\n",
      "     66  [ 0.  0.  1.]  [ 0.  0.  1.]\n",
      "     67  [ 0.  0.  1.]  [ 0.  0.  1.]\n",
      "     68  [ 0.  1.  0.]  [ 0.  0.  1.]  Wrong\n",
      "     69  [ 0.  1.  0.]  [ 0.  0.  1.]  Wrong\n",
      "     70  [ 0.  1.  0.]  [ 0.  1.  0.]\n",
      "     71  [ 0.  1.  0.]  [ 0.  1.  0.]\n",
      "     72  [ 0.  1.  0.]  [ 0.  1.  0.]\n",
      "     73  [ 0.  1.  0.]  [ 0.  1.  0.]\n",
      "     74  [ 0.  1.  0.]  [ 0.  1.  0.]\n",
      "     75  [ 0.  1.  0.]  [ 0.  1.  0.]\n",
      "     76  [ 0.  1.  0.]  [ 0.  1.  0.]\n",
      "     77  [ 0.  1.  0.]  [ 0.  0.  1.]  Wrong\n",
      "     78  [ 0.  1.  0.]  [ 0.  1.  0.]\n",
      "     79  [ 0.  1.  0.]  [ 0.  1.  0.]\n",
      "     80  [ 0.  1.  0.]  [ 0.  1.  0.]\n",
      "     81  [ 0.  1.  0.]  [ 0.  1.  0.]\n",
      "     82  [ 0.  0.  1.]  [ 0.  0.  1.]\n",
      "     83  [ 0.  0.  1.]  [ 0.  0.  1.]\n",
      "     84  [ 0.  0.  1.]  [ 0.  0.  1.]\n",
      "     85  [ 0.  1.  0.]  [ 0.  0.  1.]  Wrong\n",
      "     86  [ 0.  1.  0.]  [ 0.  0.  1.]  Wrong\n",
      "     87  [ 0.  1.  0.]  [ 0.  1.  0.]\n",
      "     88  [ 0.  1.  0.]  [ 0.  1.  0.]\n",
      "     89  [ 0.  1.  0.]  [ 0.  1.  0.]\n",
      "     90  [ 1.  0.  0.]  [ 0.  1.  0.]  Wrong\n",
      "     91  [ 1.  0.  0.]  [ 0.  1.  0.]  Wrong\n",
      "     92  [ 0.  1.  0.]  [ 0.  1.  0.]\n",
      "     93  [ 1.  0.  0.]  [ 0.  1.  0.]  Wrong\n",
      "     94  [ 0.  1.  0.]  [ 0.  1.  0.]\n",
      "     95  [ 0.  0.  1.]  [ 0.  0.  1.]\n",
      "     96  [ 0.  1.  0.]  [ 0.  1.  0.]\n",
      "     97  [ 0.  0.  1.]  [ 0.  1.  0.]  Wrong\n",
      "     98  [ 0.  0.  1.]  [ 0.  1.  0.]  Wrong\n",
      "     99  [ 1.  0.  0.]  [ 0.  0.  1.]  Wrong\n",
      "    100  [ 1.  0.  0.]  [ 1.  0.  0.]\n",
      "    101  [ 0.  0.  1.]  [ 0.  0.  1.]\n",
      "    102  [ 0.  0.  1.]  [ 1.  0.  0.]  Wrong\n",
      "    103  [ 1.  0.  0.]  [ 0.  0.  1.]  Wrong\n",
      "    104  [ 1.  0.  0.]  [ 1.  0.  0.]\n",
      "    105  [ 1.  0.  0.]  [ 1.  0.  0.]\n",
      "    106  [ 1.  0.  0.]  [ 1.  0.  0.]\n",
      "    107  [ 1.  0.  0.]  [ 1.  0.  0.]\n",
      "    108  [ 0.  1.  0.]  [ 1.  0.  0.]  Wrong\n",
      "    109  [ 0.  1.  0.]  [ 1.  0.  0.]  Wrong\n",
      "    110  [ 1.  0.  0.]  [ 1.  0.  0.]\n",
      "    111  [ 1.  0.  0.]  [ 1.  0.  0.]\n",
      "    112  [ 1.  0.  0.]  [ 1.  0.  0.]\n",
      "    113  [ 1.  0.  0.]  [ 1.  0.  0.]\n",
      "    114  [ 1.  0.  0.]  [ 1.  0.  0.]\n",
      "    115  [ 0.  0.  1.]  [ 1.  0.  0.]  Wrong\n",
      "    116  [ 0.  0.  1.]  [ 0.  0.  1.]\n",
      "    117  [ 0.  0.  1.]  [ 0.  0.  1.]\n",
      "    118  [ 1.  0.  0.]  [ 1.  0.  0.]\n",
      "    119  [ 1.  0.  0.]  [ 1.  0.  0.]\n",
      "    120  [ 1.  0.  0.]  [ 1.  0.  0.]\n",
      "    121  [ 1.  0.  0.]  [ 1.  0.  0.]\n",
      "    122  [ 1.  0.  0.]  [ 1.  0.  0.]\n",
      "    123  [ 1.  0.  0.]  [ 1.  0.  0.]\n",
      "    124  [ 1.  0.  0.]  [ 0.  0.  1.]  Wrong\n",
      "    125  [ 1.  0.  0.]  [ 1.  0.  0.]\n",
      "    126  [ 1.  0.  0.]  [ 1.  0.  0.]\n",
      "    127  [ 1.  0.  0.]  [ 1.  0.  0.]\n",
      "    128  [ 1.  0.  0.]  [ 1.  0.  0.]\n",
      "    129  [ 1.  0.  0.]  [ 1.  0.  0.]\n",
      "    130  [ 0.  0.  1.]  [ 0.  0.  1.]\n",
      "    131  [ 0.  0.  1.]  [ 0.  0.  1.]\n",
      "    132  [ 0.  0.  1.]  [ 0.  0.  1.]\n",
      "    133  [ 0.  0.  1.]  [ 0.  0.  1.]\n",
      "    134  [ 0.  0.  1.]  [ 0.  0.  1.]\n",
      "    135  [ 0.  0.  1.]  [ 0.  0.  1.]\n",
      "    136  [ 0.  0.  1.]  [ 0.  0.  1.]\n",
      "    137  [ 1.  0.  0.]  [ 0.  0.  1.]  Wrong\n",
      "    138  [ 1.  0.  0.]  [ 0.  0.  1.]  Wrong\n",
      "    139  [ 1.  0.  0.]  [ 0.  0.  1.]  Wrong\n",
      "    140  [ 1.  0.  0.]  [ 1.  0.  0.]\n",
      "    141  [ 0.  0.  1.]  [ 0.  0.  1.]\n",
      "    142  [ 1.  0.  0.]  [ 1.  0.  0.]\n",
      "    143  [ 1.  0.  0.]  [ 0.  0.  1.]  Wrong\n",
      "    144  [ 0.  0.  1.]  [ 0.  0.  1.]\n",
      "    145  [ 1.  0.  0.]  [ 0.  0.  1.]  Wrong\n",
      "    146  [ 1.  0.  0.]  [ 1.  0.  0.]\n",
      "    147  [ 1.  0.  0.]  [ 1.  0.  0.]\n",
      "    148  [ 1.  0.  0.]  [ 1.  0.  0.]\n",
      "    149  [ 1.  0.  0.]  [ 1.  0.  0.]\n",
      "    150  [ 1.  0.  0.]  [ 1.  0.  0.]\n",
      "    151  [ 1.  0.  0.]  [ 1.  0.  0.]\n",
      "    152  [ 1.  0.  0.]  [ 1.  0.  0.]\n",
      "    153  [ 1.  0.  0.]  [ 1.  0.  0.]\n",
      "    154  [ 1.  0.  0.]  [ 1.  0.  0.]\n",
      "    155  [ 1.  0.  0.]  [ 1.  0.  0.]\n",
      "    156  [ 1.  0.  0.]  [ 0.  0.  1.]  Wrong\n",
      "    157  [ 1.  0.  0.]  [ 0.  0.  1.]  Wrong\n",
      "    158  [ 1.  0.  0.]  [ 1.  0.  0.]\n",
      "    159  [ 1.  0.  0.]  [ 1.  0.  0.]\n",
      "    160  [ 1.  0.  0.]  [ 1.  0.  0.]\n",
      "    161  [ 1.  0.  0.]  [ 1.  0.  0.]\n",
      "    162  [ 1.  0.  0.]  [ 1.  0.  0.]\n",
      "    163  [ 1.  0.  0.]  [ 1.  0.  0.]\n",
      "    164  [ 1.  0.  0.]  [ 1.  0.  0.]\n",
      "    165  [ 1.  0.  0.]  [ 1.  0.  0.]\n",
      "    166  [ 1.  0.  0.]  [ 1.  0.  0.]\n",
      "    167  [ 1.  0.  0.]  [ 1.  0.  0.]\n",
      "    168  [ 1.  0.  0.]  [ 1.  0.  0.]\n",
      "    169  [ 0.  0.  1.]  [ 1.  0.  0.]  Wrong\n",
      "    170  [ 0.  0.  1.]  [ 0.  0.  1.]\n",
      "    171  [ 0.  0.  1.]  [ 0.  0.  1.]\n",
      "    172  [ 0.  0.  1.]  [ 0.  0.  1.]\n",
      "    173  [ 0.  0.  1.]  [ 0.  0.  1.]\n",
      "    174  [ 0.  0.  1.]  [ 0.  0.  1.]\n",
      "    175  [ 0.  0.  1.]  [ 0.  0.  1.]\n",
      "    176  [ 0.  0.  1.]  [ 0.  0.  1.]\n",
      "    177  [ 0.  0.  1.]  [ 0.  0.  1.]\n",
      "    178  [ 0.  0.  1.]  [ 0.  0.  1.]\n",
      "    179  [ 1.  0.  0.]  [ 0.  0.  1.]  Wrong\n",
      "    180  [ 1.  0.  0.]  [ 0.  0.  1.]  Wrong\n",
      "    181  [ 1.  0.  0.]  [ 0.  0.  1.]  Wrong\n",
      "    182  [ 1.  0.  0.]  [ 1.  0.  0.]\n",
      "    183  [ 1.  0.  0.]  [ 0.  0.  1.]  Wrong\n",
      "    184  [ 1.  0.  0.]  [ 0.  0.  1.]  Wrong\n",
      "    185  [ 1.  0.  0.]  [ 0.  0.  1.]  Wrong\n",
      "    186  [ 1.  0.  0.]  [ 1.  0.  0.]\n"
     ]
    }
   ],
   "source": [
    "'''Prediction on a brand new test set (Fri, Oct 28)'''\n",
    "\n",
    "filepath_images = '../test_set_2016_10_28/*.jpg'\n",
    "filepath_labels = '../test_set_2016_10_28/label_array_ORIGINALS.npz'\n",
    "\n",
    "def predict_testset(filepath_images):\n",
    "    model = keras.models.load_model('../nn_h5/nn.h5')\n",
    "    images      = glob.glob(filepath_images)\n",
    "    labels_file = glob.glob(filepath_labels)\n",
    "    num_predictions = len(images)\n",
    "    correct = 0\n",
    "    \n",
    "    # Extract y values (actual labels)\n",
    "    for single_npz in labels_file:\n",
    "        with np.load(single_npz) as data:\n",
    "\n",
    "            # ORIGINAL LABELS (y values)\n",
    "            labels = data.f.train_labels\n",
    "    \n",
    "    # Predict on each image\n",
    "    predictions = []\n",
    "\n",
    "    for each in images:\n",
    "        image_array = preprocess_for_predict(each)\n",
    "        y_hat       = model.predict(image_array)\n",
    "        i_max       = np.argmax(y_hat)\n",
    "        y_hat_final = np.zeros((1,3))\n",
    "        np.put(y_hat_final, i_max, 1)\n",
    "        predictions.append(y_hat_final)\n",
    "        \n",
    "    # Tabulate all results\n",
    "    table = []\n",
    "    for i,j in enumerate(xrange(num_predictions)):\n",
    "        if np.all(predictions[i]==labels[i]):\n",
    "            correct += 1\n",
    "        \n",
    "        row = [i, \\\n",
    "               predictions[i][0], \\\n",
    "               labels[i], \\\n",
    "               \"\" if np.all(predictions[i]==labels[i]) == 1 else \"Wrong\"]\n",
    "        \n",
    "        table.append(row)\n",
    "    \n",
    "    print 'Number of correct predictions:', correct\n",
    "    print 'Number of incorrect predictions:', num_predictions-correct\n",
    "    print 'Accuracy:', float(correct)/num_predictions\n",
    "    print ''\n",
    "    print tabulate(table, headers=['Frame', 'Prediction', 'Actual', 'Wrongness'])\n",
    "    \n",
    "predict_testset(filepath_images)"
   ]
  },
  {
   "cell_type": "code",
   "execution_count": null,
   "metadata": {
    "collapsed": true
   },
   "outputs": [],
   "source": []
  }
 ],
 "metadata": {
  "kernelspec": {
   "display_name": "Python 2",
   "language": "python",
   "name": "python2"
  },
  "language_info": {
   "codemirror_mode": {
    "name": "ipython",
    "version": 2
   },
   "file_extension": ".py",
   "mimetype": "text/x-python",
   "name": "python",
   "nbconvert_exporter": "python",
   "pygments_lexer": "ipython2",
   "version": "2.7.9"
  }
 },
 "nbformat": 4,
 "nbformat_minor": 0
}
