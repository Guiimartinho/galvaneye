{
 "cells": [
  {
   "cell_type": "code",
   "execution_count": 27,
   "metadata": {
    "collapsed": false
   },
   "outputs": [],
   "source": [
    "import glob\n",
    "from keras.preprocessing.image import ImageDataGenerator, array_to_img, img_to_array, load_img\n",
    "from tqdm import tqdm"
   ]
  },
  {
   "cell_type": "code",
   "execution_count": 54,
   "metadata": {
    "collapsed": true
   },
   "outputs": [],
   "source": [
    "datagen = ImageDataGenerator(\n",
    "                            rotation_range=0,\n",
    "                            width_shift_range=0,\n",
    "                            height_shift_range=0,\n",
    "                            shear_range=0,\n",
    "                            zoom_range=0.1,\n",
    "                            horizontal_flip=False)"
   ]
  },
  {
   "cell_type": "code",
   "execution_count": 83,
   "metadata": {
    "collapsed": false,
    "scrolled": false
   },
   "outputs": [
    {
     "name": "stderr",
     "output_type": "stream",
     "text": [
      "100%|██████████| 175/175 [00:10<00:00, 18.85it/s]"
     ]
    },
    {
     "name": "stdout",
     "output_type": "stream",
     "text": [
      "# successes:  350\n",
      "350 == 350\n",
      "Success!\n"
     ]
    },
    {
     "name": "stderr",
     "output_type": "stream",
     "text": [
      "\n"
     ]
    }
   ],
   "source": [
    "import os, os.path\n",
    "\n",
    "filepath = './imgs_20161024_201843/frame00053.jpg'\n",
    "image_folders = './imgs_20161025_222655/*.jpg'\n",
    "\n",
    "# 'n' is the number of copies to be generated.\n",
    "n = 2\n",
    "successes = 0\n",
    "\n",
    "jpegs = glob.glob(image_folders)\n",
    "\n",
    "for j in tqdm(jpegs):\n",
    "    \n",
    "    img = load_img(j)\n",
    "    x = img_to_array(img)\n",
    "    x = x.reshape((1,) + x.shape)\n",
    "    \n",
    "    i = 0    \n",
    "    for batch in datagen.flow(\n",
    "                            x, \n",
    "                            batch_size=1,\n",
    "                            save_to_dir='shifted',\n",
    "                            save_prefix='frsh_{:>05}'.format(successes),\n",
    "                            save_format='jpg'):\n",
    "        i += 1\n",
    "        successes += 1\n",
    "        if i == n:\n",
    "            i = 0\n",
    "            break\n",
    "\n",
    "print '# successes: ', successes\n",
    "\n",
    "# HACK: Check if number of images in save_to_dir == number of successes. If False, then return False.\n",
    "num_new_images = len([name for name in os.listdir('./shifted')])\n",
    "\n",
    "if successes == num_new_images-1:\n",
    "    print successes, '==', num_new_images-1 \n",
    "    print 'Success!'\n",
    "else:\n",
    "    print successes, '!=', num_new_images-1 \n",
    "    print 'FAIL!'\n"
   ]
  },
  {
   "cell_type": "code",
   "execution_count": null,
   "metadata": {
    "collapsed": true
   },
   "outputs": [],
   "source": []
  }
 ],
 "metadata": {
  "kernelspec": {
   "display_name": "Python 2",
   "language": "python",
   "name": "python2"
  },
  "language_info": {
   "codemirror_mode": {
    "name": "ipython",
    "version": 2
   },
   "file_extension": ".py",
   "mimetype": "text/x-python",
   "name": "python",
   "nbconvert_exporter": "python",
   "pygments_lexer": "ipython2",
   "version": "2.7.9"
  }
 },
 "nbformat": 4,
 "nbformat_minor": 0
}
